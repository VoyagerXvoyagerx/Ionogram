{
  "cells": [
    {
      "cell_type": "markdown",
      "metadata": {
        "id": "HLrYGcm0FtZt"
      },
      "source": [
        "# Model"
      ]
    },
    {
      "cell_type": "markdown",
      "metadata": {
        "id": "lNRq1oiHcy8I"
      },
      "source": [
        "#### Preparation"
      ]
    },
    {
      "cell_type": "code",
      "execution_count": 1,
      "metadata": {
        "colab": {
          "base_uri": "https://localhost:8080/"
        },
        "id": "AkFqQGiPixOc",
        "outputId": "085835db-80ea-4729-d3e8-d0c615ec4a74"
      },
      "outputs": [
        {
          "output_type": "stream",
          "name": "stdout",
          "text": [
            "torch                         1.10.0+cu111\n",
            "torchaudio                    0.10.0+cu111\n",
            "torchsummary                  1.5.1\n",
            "torchtext                     0.11.0\n",
            "torchvision                   0.11.1+cu111\n",
            "/content/drive/MyDrive\n",
            " cimg.rar            img.rar         \u001b[0m\u001b[01;34mIono4311v2\u001b[0m/   \u001b[01;34mmmsegmentation\u001b[0m/\n",
            " cmask.rar           \u001b[01;36mIono2630_npy\u001b[0m@   label.rar     \u001b[01;34mmmsegmentation17\u001b[0m/\n",
            "\u001b[01;34m'Colab Notebooks'\u001b[0m/   Iono4311.rar    \u001b[01;34mmmp\u001b[0m/\n",
            "Looking in links: https://download.openmmlab.com/mmcv/dist/cu111/torch1.10.0/index.html\n",
            "Collecting mmcv-full\n",
            "  Downloading https://download.openmmlab.com/mmcv/dist/cu111/torch1.10.0/mmcv_full-1.4.6-cp37-cp37m-manylinux1_x86_64.whl (46.0 MB)\n",
            "\u001b[K     |████████████████████████████████| 46.0 MB 8.7 MB/s \n",
            "\u001b[?25hRequirement already satisfied: Pillow in /usr/local/lib/python3.7/dist-packages (from mmcv-full) (7.1.2)\n",
            "Requirement already satisfied: packaging in /usr/local/lib/python3.7/dist-packages (from mmcv-full) (21.3)\n",
            "Requirement already satisfied: opencv-python>=3 in /usr/local/lib/python3.7/dist-packages (from mmcv-full) (4.1.2.30)\n",
            "Collecting yapf\n",
            "  Downloading yapf-0.32.0-py2.py3-none-any.whl (190 kB)\n",
            "\u001b[K     |████████████████████████████████| 190 kB 5.3 MB/s \n",
            "\u001b[?25hRequirement already satisfied: numpy in /usr/local/lib/python3.7/dist-packages (from mmcv-full) (1.21.5)\n",
            "Requirement already satisfied: pyyaml in /usr/local/lib/python3.7/dist-packages (from mmcv-full) (3.13)\n",
            "Collecting addict\n",
            "  Downloading addict-2.4.0-py3-none-any.whl (3.8 kB)\n",
            "Requirement already satisfied: pyparsing!=3.0.5,>=2.0.2 in /usr/local/lib/python3.7/dist-packages (from packaging->mmcv-full) (3.0.7)\n",
            "Installing collected packages: yapf, addict, mmcv-full\n",
            "Successfully installed addict-2.4.0 mmcv-full-1.4.6 yapf-0.32.0\n"
          ]
        }
      ],
      "source": [
        "!pip list | grep torch\n",
        "%cd /content/drive/MyDrive/ \n",
        "%ls\n",
        "!pip install mmcv-full -f https://download.openmmlab.com/mmcv/dist/cu111/torch1.10.0/index.html #colab会更新torch和cuda版本，对应mmcv版本也要及时更新"
      ]
    },
    {
      "cell_type": "code",
      "execution_count": 2,
      "metadata": {
        "colab": {
          "base_uri": "https://localhost:8080/"
        },
        "id": "Jmjm56wukQeS",
        "outputId": "8129c2b8-5f0c-4283-da12-2627dc0e0c9a"
      },
      "outputs": [
        {
          "output_type": "stream",
          "name": "stdout",
          "text": [
            "/content/drive/MyDrive/mmsegmentation\n",
            "1.10.0+cu111 True\n",
            "0.20.2\n"
          ]
        }
      ],
      "source": [
        "%cd mmsegmentation\n",
        "import torch, torchvision\n",
        "print(torch.__version__, torch.cuda.is_available())\n",
        "import mmseg\n",
        "print(mmseg.__version__)\n",
        "from mmseg.apis import inference_segmentor, init_segmentor, show_result_pyplot\n",
        "from mmseg.core.evaluation import get_palette\n",
        "import mmcv\n",
        "import matplotlib.pyplot as plt\n",
        "import matplotlib.patches as mpatches\n",
        "import os.path as osp\n",
        "import numpy as np\n",
        "from PIL import Image\n",
        "import time"
      ]
    },
    {
      "cell_type": "markdown",
      "metadata": {
        "id": "ekQwh1H6mbJ8"
      },
      "source": [
        "#### Dataset Setting"
      ]
    },
    {
      "cell_type": "code",
      "execution_count": null,
      "metadata": {
        "id": "P2oP_tIk1Yi6"
      },
      "outputs": [],
      "source": [
        "data_root = 'Iono4311'\n",
        "img_dir = 'cimg'\n",
        "ann_dir = 'cmask'\n",
        "split_dir = 'splits'\n",
        "label_dir = 'label'\n",
        "classes = ('Background', 'E', 'Es-l', 'Es-c', 'F1', 'F2', 'Spread F')\n",
        "palette = [[230, 230, 230], [250, 165, 30], [120, 69, 125], [53, 125, 34], \n",
        "           [0, 11, 123], [130, 20, 12], [120, 121, 80]]\n",
        "from mmseg.datasets.builder import DATASETS\n",
        "from mmseg.datasets.custom import CustomDataset\n",
        "# 定义数据集类型，指定类名称，调色板，后缀等 打开你文件后第二次执行需要注释以下内容\n",
        "\n",
        "@DATASETS.register_module()\n",
        "class StandfordBackgroundDataset(CustomDataset):\n",
        "  CLASSES = classes\n",
        "  PALETTE = palette\n",
        "  def __init__(self, split, **kwargs):\n",
        "    super().__init__(img_suffix='.png', seg_map_suffix='.png', \n",
        "                     split=split, **kwargs)\n",
        "    assert osp.exists(self.img_dir) and self.split is not None"
      ]
    },
    {
      "cell_type": "markdown",
      "metadata": {
        "id": "wiB0BZJamoS_"
      },
      "source": [
        "#### Load Trained Model\n"
      ]
    },
    {
      "cell_type": "code",
      "execution_count": 6,
      "metadata": {
        "colab": {
          "base_uri": "https://localhost:8080/"
        },
        "id": "qdUtrkYqPPjD",
        "outputId": "4284b21c-6601-4461-8dac-031bde07eaa2"
      },
      "outputs": [
        {
          "output_type": "stream",
          "name": "stdout",
          "text": [
            "load checkpoint from local path: ./work_dirs/ckpt/iou_3922_acc_9153.pth\n"
          ]
        }
      ],
      "source": [
        "from mmcv import Config\n",
        "cfg = Config.fromfile('./work_dirs/ckpt/pspnet_ce.py')\n",
        "model_path = './work_dirs/ckpt/' + 'iou_3922_acc_9153' + '.pth'\n",
        "\n",
        "# initialize segmentor\n",
        "model = init_segmentor(cfg,  model_path, device='cuda:0') "
      ]
    },
    {
      "cell_type": "markdown",
      "metadata": {
        "id": "G4mya-gRPf-c"
      },
      "source": [
        "#### Inference"
      ]
    },
    {
      "cell_type": "code",
      "execution_count": 7,
      "metadata": {
        "id": "tD51D6tO5Iy3",
        "colab": {
          "base_uri": "https://localhost:8080/",
          "height": 579
        },
        "outputId": "78f87c3f-e3e3-46f5-c992-4ba0db9b90c7"
      },
      "outputs": [
        {
          "output_type": "stream",
          "name": "stderr",
          "text": [
            "/content/drive/MyDrive/mmsegmentation/mmseg/models/segmentors/base.py:284: UserWarning: show==False and out_file is not specified, only result image will be returned\n",
            "  warnings.warn('show==False and out_file is not specified, only '\n"
          ]
        },
        {
          "output_type": "display_data",
          "data": {
            "text/plain": [
              "<Figure size 216x216 with 1 Axes>"
            ],
            "image/png": "[encoded data removed]"
          },
          "metadata": {
            "needs_background": "light"
          }
        },
        {
          "output_type": "display_data",
          "data": {
            "text/plain": [
              "<Figure size 360x360 with 1 Axes>"
            ],
            "image/png": "[encoded data removed]"
          },
          "metadata": {
            "needs_background": "light"
          }
        }
      ],
      "source": [
        "# test a single image\n",
        "img = mmcv.imread('Iono4311/cimg/20191106131500.png')\n",
        "result = inference_segmentor(model, img)\n",
        "\n",
        "# show result\n",
        "plt.figure(figsize=(3,3))\n",
        "plt.title('Prediction of pspnet')\n",
        "seg_res = Image.fromarray(np.uint8(result[0])).convert('P')\n",
        "seg_res.putpalette(np.array(palette, dtype=np.uint8))\n",
        "im = plt.imshow(np.array(seg_res.convert('RGB')))\n",
        "patches = [mpatches.Patch(color=np.array(palette[i])/255.,label=classes[i]) for i in range(7)]\n",
        "plt.legend(handles=patches, bbox_to_anchor=(1.05, 1), loc=2, borderaxespad=0, fontsize='large')\n",
        "\n",
        "show_result_pyplot(model, img, result, fig_size=(5,5), title='mixed')"
      ]
    },
    {
      "cell_type": "markdown",
      "metadata": {
        "id": "qojufhLzvOQy"
      },
      "source": [
        "### Functions\n",
        "\n",
        "\n",
        "```\n",
        "single_load\n",
        "post_seg\n",
        "interpret\n",
        "show_cha_pyplot\n",
        "```\n",
        "\n"
      ]
    },
    {
      "cell_type": "markdown",
      "metadata": {
        "id": "GJPDTxtBiL1h"
      },
      "source": [
        "#### Load Data\n",
        "\n",
        "```\n",
        "[gimg, cimg, label, cmask, seg] = single_load(name)\n",
        "```\n",
        "@gimg, grayscale ionogram\n",
        "@cimg, color ionogram\n",
        "@seg, inference result\n",
        "@label, grascale label\n",
        "@cmask, color mask\n"
      ]
    },
    {
      "cell_type": "code",
      "execution_count": 8,
      "metadata": {
        "id": "wyQeI2kTgB3F"
      },
      "outputs": [],
      "source": [
        "import cv2\n",
        "def single_load(name):\n",
        "  label = cv2.imread(data_root + '/' + label_dir + '/' + name + '.png', cv2.IMREAD_GRAYSCALE) # 真实标签，gray ndarray\n",
        "  cmask = Image.open(data_root + '/' + ann_dir + '/' + name + '.png')\n",
        "  cimg = mmcv.imread(data_root + '/' + img_dir + '/' + name + '.png')  # numpy\n",
        "  segs = inference_segmentor(model, cimg)\n",
        "  gimg = cimg[:,:,0]  \n",
        "  seg = segs[0]        \n",
        "  return [gimg, cimg, label, cmask, seg]"
      ]
    },
    {
      "cell_type": "markdown",
      "metadata": {
        "id": "hDWX9pOCm9S-"
      },
      "source": [
        "#### Edge Detection and Feature Fusion \n",
        "\n",
        "\n",
        "```\n",
        "segmap = post_seg(seg, cimg)\n",
        "```\n",
        "\n"
      ]
    },
    {
      "cell_type": "code",
      "execution_count": 9,
      "metadata": {
        "id": "T2HcHeBDi268"
      },
      "outputs": [],
      "source": [
        "def post_seg(seg, cimg):\n",
        "  th1 = 256*2\n",
        "  th2 = 400\n",
        "  blurred = cv2.GaussianBlur(cimg, (3, 3), 0)\n",
        "  edge = cv2.Canny(blurred, 50, 150)\n",
        "  edge = edge / 255\n",
        "  # Hadamard product\n",
        "  segmap = seg * edge\n",
        "  return segmap"
      ]
    },
    {
      "cell_type": "markdown",
      "metadata": {
        "id": "bCSnJpH0M8xu"
      },
      "source": [
        "#### Determine e, f1, f2 Parameters\n",
        "```\n",
        "[minh, maxf] = character(segmap)\n",
        "[minh, maxf] = cha_e(segmap)\n",
        "[minh, maxf] = cha_f1(segmap)\n",
        "fmin = cha_fmin(segmap)\n",
        "return [-500,-1000] when traces do not exist\n",
        "```\n",
        "\n"
      ]
    },
    {
      "cell_type": "code",
      "execution_count": 10,
      "metadata": {
        "id": "swVM6k_XM7oK"
      },
      "outputs": [],
      "source": [
        "def character(segmap):\n",
        "  minh = -1\n",
        "  maxf = -1\n",
        "  list_dh = []\n",
        "  for i in range(359, -1, -1):\n",
        "    for j in range(400):\n",
        "      if (segmap[i,j] == 5) | (segmap[i,j] == 6):\n",
        "        minh = i\n",
        "        break\n",
        "    if minh != -1:\n",
        "      break\n",
        "\n",
        "  for j in range(399,-1,-1):\n",
        "    for i in range(minh, -1, -1):\n",
        "      if (segmap[i,j] == 5) | (segmap[i,j] == 6):\n",
        "        maxf = j\n",
        "        break\n",
        "    if maxf != -1:\n",
        "      break\n",
        "  return [minh, maxf]\n",
        "\n",
        "def cha_e(segmap):\n",
        "  minh = -1\n",
        "  maxf = -1\n",
        "  list_dh = []\n",
        "  for i in range(359, -1, -1):\n",
        "    for j in range(400):\n",
        "      if (segmap[i,j] == 1):\n",
        "        minh = i\n",
        "        break\n",
        "    if minh != -1:\n",
        "      break\n",
        "\n",
        "  for j in range(399,-1,-1):\n",
        "    for i in range(minh, -1, -1):\n",
        "      if (segmap[i,j] == 1):\n",
        "        maxf = j\n",
        "        break\n",
        "    if maxf != -1:\n",
        "      break\n",
        "  if (minh == -1) | (maxf == -1):\n",
        "    return[-500, -1000]\n",
        "  return [minh, maxf]\n",
        "\n",
        "def cha_f1(segmap):\n",
        "  minh = -1\n",
        "  maxf = -1\n",
        "  list_dh = []\n",
        "  for i in range(359, -1, -1):\n",
        "    for j in range(400):\n",
        "      if (segmap[i,j] == 4):\n",
        "        minh = i\n",
        "        break\n",
        "    if minh != -1:\n",
        "      break\n",
        "\n",
        "  for j in range(399,-1,-1):\n",
        "    for i in range(minh, -1, -1):\n",
        "      if (segmap[i,j] == 4):\n",
        "        maxf = j\n",
        "        break\n",
        "    if maxf != -1:\n",
        "      break\n",
        "  if (minh == -1) | (maxf == -1):\n",
        "    return[-500, -1000]\n",
        "  return [minh, maxf]\n",
        "\n",
        "def cha_fmin(segmap):\n",
        "  fmin = -1\n",
        "  for j in range(400):\n",
        "    for i in range(360):\n",
        "      if (segmap[i,j] != 0):\n",
        "        fmin = j\n",
        "        break\n",
        "    if fmin != -1:\n",
        "      break\n",
        "  return fmin\n",
        "        "
      ]
    },
    {
      "cell_type": "markdown",
      "metadata": {
        "id": "jPM4_HYNp4xn"
      },
      "source": [
        "#### Obtain Parameters\n",
        "\n",
        "\n",
        "```\n",
        "[mh_pred, mf_pred, mhe_pred, mfe_pred, mhf1_pred, mff1_pred, fmin] = interpret(segmap)\n",
        "```\n",
        "\n"
      ]
    },
    {
      "cell_type": "code",
      "execution_count": 11,
      "metadata": {
        "id": "DwHFXZW3p-2-"
      },
      "outputs": [],
      "source": [
        "def interpret(segmap):\n",
        "  # f2\n",
        "  [mh_pred, mf_pred] = character(segmap)\n",
        "  # e\n",
        "  [mhe_pred, mfe_pred] = cha_e(segmap)\n",
        "  # f1\n",
        "  [mhf1_pred, mff1_pred] = cha_f1(segmap)\n",
        "  # fmin\n",
        "  fmin = cha_fmin(segmap)\n",
        "  return [mh_pred, mf_pred, mhe_pred, mfe_pred, mhf1_pred, mff1_pred, fmin]\n"
      ]
    },
    {
      "cell_type": "markdown",
      "metadata": {
        "id": "Y7RwxMklsT5v"
      },
      "source": [
        "#### Visualization\n",
        "\n",
        "\n",
        "```\n",
        "show_cha_pyplot(cimg, cmask, segmap, palette,\n",
        "                            mh_pred, mf_pred, mhe_pred, mfe_pred, mhf1_pred, mff1_pred,\n",
        "                            mh_truth, mf_truth, mhe_truth, mfe_truth, mhf1_truth, mff1_truth):\n",
        "\n",
        "```\n",
        "\n"
      ]
    },
    {
      "cell_type": "code",
      "execution_count": 12,
      "metadata": {
        "id": "a9jXP-iOscjJ"
      },
      "outputs": [],
      "source": [
        "def show_cha_pyplot(cimg, cmask, segmap, palette,\n",
        "                                  mh_pred, mf_pred, mhe_pred, mfe_pred, mhf1_pred, mff1_pred, fmin_pred,\n",
        "                                  mh_truth, mf_truth, mhe_truth, mfe_truth, mhf1_truth, mff1_truth, fmin_truth):\n",
        "  plt.figure(figsize=(28, 9))\n",
        "  plt.subplot(131)\n",
        "  plt.xlabel('Frequency (MHz)')\n",
        "  plt.ylabel('Virtual Height (km)')\n",
        "  plt.yticks([0, 40, 80, 120, 160, 200, 240, 280, 320, 360],[990, 890, 790, 690, 590, 490, 390, 290, 190, 90])\n",
        "  plt.xticks([0, 50, 100, 150, 200, 250, 300, 350, 400],[1.0, 3.5, 6.0, 8.5, 11.0, 13.5, 16.0, 18.5, 21.0])\n",
        "  # plt.title('Input Image')\n",
        "  plt.imshow(cimg)\n",
        "\n",
        "  plt.subplot(132)\n",
        "  plt.xlabel('Frequency (MHz)')\n",
        "  plt.ylabel('Virtual Height (km)')\n",
        "  plt.yticks([0, 40, 80, 120, 160, 200, 240, 280, 320, 360],[990, 890, 790, 690, 590, 490, 390, 290, 190, 90])\n",
        "  plt.xticks([0, 50, 100, 150, 200, 250, 300, 350, 400],[1.0, 3.5, 6.0, 8.5, 11.0, 13.5, 16.0, 18.5, 21.0])\n",
        "  # plt.title('Ground Truth')\n",
        "  plt.imshow(cmask)\n",
        "  # f2\n",
        "  plt.axvline(mf_truth,color='g',linestyle=\":\",alpha=0.8) \n",
        "  plt.text(mf_truth, -2,'foF2', color = 'g')\n",
        "  plt.axhline(mh_truth,color='r',linestyle=\"--\",alpha=0.8) \n",
        "  plt.text(401, mh_truth-3,'h\\'F2', color = 'r')\n",
        "  # E\n",
        "  if mfe_truth > 0:\n",
        "    plt.axvline(mfe_truth,color='g',linestyle=\":\",alpha=0.8) \n",
        "    plt.text(mfe_truth-6, -2,'foE', color = 'g')\n",
        "    plt.axhline(mhe_truth,color='r',linestyle=\"--\",alpha=0.8)\n",
        "    plt.text(401, mhe_truth-3,'h\\'E', color = 'r')\n",
        "  # f1\n",
        "  if mff1_truth > 0:\n",
        "    plt.axvline(mff1_truth,color='g',linestyle=\":\",alpha=0.8) \n",
        "    plt.text(mff1_truth, -2,'foF1', color = 'g')\n",
        "    plt.axhline(mhf1_truth,color='r',linestyle=\"--\",alpha=0.8)  \n",
        "    plt.text(401, mhf1_truth-3,'h\\'F1', color = 'r')\n",
        "  if fmin_pred > 0:\n",
        "    plt.axvline(fmin_truth,color='g',linestyle=\":\",alpha=0.8) \n",
        "    plt.text(fmin_truth-18, -2,'fmin', color = 'g')\n",
        "\n",
        "  plt.subplot(133)\n",
        "  plt.xlabel('Frequency (MHz)')\n",
        "  plt.ylabel('Virtual Height (km)')\n",
        "  plt.yticks([0, 40, 80, 120, 160, 200, 240, 280, 320, 360],[990, 890, 790, 690, 590, 490, 390, 290, 190, 90])\n",
        "  plt.xticks([0, 50, 100, 150, 200, 250, 300, 350, 400],[1.0, 3.5, 6.0, 8.5, 11.0, 13.5, 16.0, 18.5, 21.0])\n",
        "  # plt.title('Final Prediction')\n",
        "  seg_res = Image.fromarray(np.uint8(segmap)).convert('P')\n",
        "  seg_res.putpalette(np.array(palette, dtype=np.uint8))\n",
        "  im = plt.imshow(np.array(seg_res.convert('RGB')))\n",
        "  plt.legend(handles=patches, bbox_to_anchor=(1.05, 1), loc=2, borderaxespad=0, fontsize='large')\n",
        "  # f2\n",
        "  plt.axvline(mf_pred,color='g',linestyle=\":\",alpha=0.8) \n",
        "  plt.text(mf_pred, -2,'foF2', color = 'g')\n",
        "  plt.axhline(mh_pred,color='r',linestyle=\"--\",alpha=0.8) \n",
        "  plt.text(401, mh_pred-3,'h\\'F2', color = 'r')\n",
        "  # E\n",
        "  if mfe_pred > 0:\n",
        "    plt.axvline(mfe_pred,color='g',linestyle=\":\",alpha=0.8) \n",
        "    plt.text(mfe_pred-6, -2,'foE', color = 'g')\n",
        "    plt.axhline(mhe_pred,color='r',linestyle=\"--\",alpha=0.8) \n",
        "    plt.text(401, mhe_pred-3,'h\\'E', color = 'r')\n",
        "  # f1\n",
        "  if mff1_pred > 0:\n",
        "    plt.axvline(mff1_pred,color='g',linestyle=\":\",alpha=0.8) \n",
        "    plt.text(mff1_pred, -2,'foF1', color = 'g')\n",
        "    plt.axhline(mhf1_pred,color='r',linestyle=\"--\",alpha=0.8) \n",
        "    plt.text(401, mhf1_pred-3,'h\\'F1', color = 'r')\n",
        "  if fmin_pred > 0:\n",
        "    plt.axvline(fmin_pred,color='g',linestyle=\":\",alpha=0.8) \n",
        "    plt.text(fmin_pred-18, -2,'fmin', color = 'g')\n",
        "  # save as png\n",
        "  plt.savefig('results/'+str(cnt)+'.png')\n",
        "  plt.show()"
      ]
    },
    {
      "cell_type": "markdown",
      "metadata": {
        "id": "NeOCQ9aXlC9Y"
      },
      "source": [
        "#### Overview of the Model"
      ]
    },
    {
      "cell_type": "code",
      "execution_count": 14,
      "metadata": {
        "id": "zf6sr_fAtodx",
        "colab": {
          "base_uri": "https://localhost:8080/",
          "height": 274
        },
        "outputId": "19bdb1cc-f84a-4e54-8510-4540059c9df1"
      },
      "outputs": [
        {
          "output_type": "display_data",
          "data": {
            "text/plain": [
              "<Figure size 2880x648 with 4 Axes>"
            ],
            "image/png": "[encoded data removed]"
          },
          "metadata": {
            "needs_background": "light"
          }
        }
      ],
      "source": [
        "import sys\n",
        "name_list=[]\n",
        "with open(\"/content/drive/MyDrive/mmsegmentation/Iono4311/splits/val.txt\", \"r\") as f:  # 打开文件\n",
        "\tfor line in f:\n",
        "\t\tname_list.append(''.join(line.strip('\\n').split(',')))\n",
        "\n",
        "name = name_list[780]\n",
        "[gimg, cimg, label, cmask, seg] = single_load(name)\n",
        "\n",
        "blurred = cv2.GaussianBlur(cimg, (3, 3), 0)\n",
        "edge = cv2.Canny(blurred, 50, 150)\n",
        "edge = 1 - edge / 255\n",
        "# 与seg取交集\n",
        "segmap = seg * edge\n",
        "segmap = post_seg(seg, cimg)\n",
        "\n",
        "plt.figure(figsize=(40, 9))\n",
        "plt.subplot(141)\n",
        "plt.xlabel('Frequency (MHz)')\n",
        "plt.ylabel('Virtual Height (km)')\n",
        "plt.yticks([0, 40, 80, 120, 160, 200, 240, 280, 320, 360],[990, 890, 790, 690, 590, 490, 390, 290, 190, 90])\n",
        "plt.xticks([0, 50, 100, 150, 200, 250, 300, 350, 400],[1.0, 3.5, 6.0, 8.5, 11.0, 13.5, 16.0, 18.5, 21.0])\n",
        "# plt.title('Input Ionogram')\n",
        "plt.imshow(cimg)\n",
        "plt.subplot(142)\n",
        "plt.xlabel('Frequency (MHz)')\n",
        "plt.ylabel('Virtual Height (km)')\n",
        "plt.yticks([0, 40, 80, 120, 160, 200, 240, 280, 320, 360],[990, 890, 790, 690, 590, 490, 390, 290, 190, 90])\n",
        "plt.xticks([0, 50, 100, 150, 200, 250, 300, 350, 400],[1.0, 3.5, 6.0, 8.5, 11.0, 13.5, 16.0, 18.5, 21.0])\n",
        "# plt.title('Edges of the trace')\n",
        "plt.imshow(cmask)\n",
        "# plt.imshow(edge, cmap='binary')\n",
        "plt.subplot(143)\n",
        "plt.xlabel('Frequency (MHz)')\n",
        "plt.ylabel('Virtual Height (km)')\n",
        "plt.yticks([0, 40, 80, 120, 160, 200, 240, 280, 320, 360],[990, 890, 790, 690, 590, 490, 390, 290, 190, 90])\n",
        "plt.xticks([0, 50, 100, 150, 200, 250, 300, 350, 400],[1.0, 3.5, 6.0, 8.5, 11.0, 13.5, 16.0, 18.5, 21.0])\n",
        "# plt.title('Prediction of segmentation networks')\n",
        "seg_res = Image.fromarray(np.uint8(seg)).convert('P')\n",
        "seg_res.putpalette(np.array(palette, dtype=np.uint8))\n",
        "im = plt.imshow(np.array(seg_res.convert('RGB')))\n",
        "patches = [mpatches.Patch(color=np.array(palette[i])/255.,label=classes[i]) for i in range(7)]\n",
        "plt.subplot(144)\n",
        "plt.xlabel('Frequency (MHz)')\n",
        "plt.ylabel('Virtual Height (km)')\n",
        "plt.yticks([0, 40, 80, 120, 160, 200, 240, 280, 320, 360],[990, 890, 790, 690, 590, 490, 390, 290, 190, 90])\n",
        "plt.xticks([0, 50, 100, 150, 200, 250, 300, 350, 400],[1.0, 3.5, 6.0, 8.5, 11.0, 13.5, 16.0, 18.5, 21.0])\n",
        "# plt.title('Edge of each layer')\n",
        "seg_res = Image.fromarray(np.uint8(segmap)).convert('P')\n",
        "seg_res.putpalette(np.array(palette, dtype=np.uint8))\n",
        "im = plt.imshow(np.array(seg_res.convert('RGB')))\n",
        "plt.legend(handles=patches, bbox_to_anchor=(1.05, 1), loc=2, borderaxespad=0, fontsize='large')\n",
        "plt.savefig('results/mask.png')\n",
        "plt.show()\n"
      ]
    },
    {
      "cell_type": "markdown",
      "metadata": {
        "id": "KskRcvWsj_V5"
      },
      "source": [
        "# Evaluate"
      ]
    },
    {
      "cell_type": "code",
      "execution_count": 16,
      "metadata": {
        "id": "fvj89RKBvUhG"
      },
      "outputs": [],
      "source": [
        "import sys\n",
        "name_list=[]\n",
        "with open(\"/content/drive/MyDrive/mmsegmentation/Iono4311/splits/val.txt\", \"r\") as f:  # 打开文件\n",
        "\tfor line in f:\n",
        "\t\tname_list.append(''.join(line.strip('\\n').split(',')))\n",
        "N = len(name_list)"
      ]
    },
    {
      "cell_type": "code",
      "execution_count": null,
      "metadata": {
        "id": "Gn36UG9ylgJp"
      },
      "outputs": [],
      "source": [
        "cfg = Config.fromfile('./work_dirs/ckpt/pspnet_ce.py')\n",
        "model_path = './work_dirs/ckpt/' + 'iou_3589_acc_9352' + '.pth'\n",
        "model = init_segmentor(cfg,  model_path, device='cuda:0') \n",
        "\n",
        "cnt = 0\n",
        "sample_interval = 1\n",
        "tic1  = time.perf_counter()\n",
        "\n",
        "list_pred = []\n",
        "list_target = []\n",
        "\n",
        "# for name in name_list:\n",
        "while cnt < N:\n",
        "  name = name_list[cnt]\n",
        "  [gimg, cimg, label, cmask, seg] = single_load(name)\n",
        "  segmap = post_seg(seg, cimg) \n",
        "\n",
        "  [mh_pred, mf_pred, mhe_pred, mfe_pred, mhf1_pred, mff1_pred, fmin_pred] = interpret(segmap)\n",
        "  [mh_truth, mf_truth, mhe_truth, mfe_truth, mhf1_truth, mff1_truth, fmin_truth] = interpret(label)\n",
        "\n",
        "  list_pred.append([mh_pred, mf_pred-1, mhe_pred, mfe_pred-1, mhf1_pred, mff1_pred-1, fmin_pred+1])\n",
        "  list_target.append([mh_truth, mf_truth, mhe_truth, mfe_truth, mhf1_truth, mff1_truth, fmin_truth])\n",
        "  \n",
        "  if cnt % 20 == 0:\n",
        "    tic2  = time.perf_counter()\n",
        "    print(cnt, '/', N, 'time:', tic2-tic1, 's')\n",
        "\n",
        "  cnt = cnt + sample_interval\n",
        "\n",
        "cha_pred = np.array(list_pred)\n",
        "cha_target = np.array(list_target)\n",
        "np.save('./work_dirs/npz/pred_3589', cha_pred)\n",
        "np.save('./work_dirs/npz/target_3589', cha_target)"
      ]
    },
    {
      "cell_type": "code",
      "execution_count": 20,
      "metadata": {
        "id": "xieDUSGy6YOW",
        "colab": {
          "base_uri": "https://localhost:8080/",
          "height": 697
        },
        "outputId": "6c1aaeb2-34e4-43c3-e276-eb012d8511b0"
      },
      "outputs": [
        {
          "output_type": "stream",
          "name": "stdout",
          "text": [
            "(1604, 4)\n",
            "fmin cases 863\n",
            "dh cases 1604 dfcases 2467\n",
            "[-135.   -50.   -47.5  -45.   -42.5  -40.   -32.5  -30.   -27.5  -25.\n",
            "  -22.5  -20.   -17.5  -15.   -12.5  -10.    -7.5   -5.    -2.5    0.\n",
            "    2.5    5.     7.5   10.    12.5   15.    17.5   20.    30.    37.5\n",
            "   40.    57.5]\n",
            "[-2.05 -1.7  -1.6  -1.45 -1.4  -1.3  -1.25 -1.2  -1.15 -1.1  -1.   -0.95\n",
            " -0.9  -0.85 -0.8  -0.75 -0.7  -0.65 -0.6  -0.55 -0.5  -0.45 -0.4  -0.35\n",
            " -0.3  -0.25 -0.2  -0.15 -0.1  -0.05  0.    0.05  0.1   0.15  0.2   0.25\n",
            "  0.3   0.35  0.4   0.45  0.7   0.8   1.1   1.55  1.65  1.8   1.95  4.\n",
            "  5.15]\n",
            "('dhF2 <= 10km:', 0.9884125144843569)\n",
            "('dfoF2 <= 0.2MHz:', 0.9721900347624566)\n",
            "mean absolute DH 2.8849750623441395\n",
            "mean absolute DF 0.09120389136603162\n",
            "\n",
            "mean DH -0.9865960099750624\n",
            "mean DF -0.023186055938386706\n",
            "mean DFmin -0.0906720741599073\n"
          ]
        },
        {
          "output_type": "display_data",
          "data": {
            "text/plain": [
              "<Figure size 864x360 with 2 Axes>"
            ],
            "image/png": "[encoded data removed]"
          },
          "metadata": {
            "needs_background": "light"
          }
        }
      ],
      "source": [
        "import numpy as np\n",
        "import matplotlib.pyplot as plt\n",
        "import matplotlib.patches as mpatches\n",
        "cha_pred = np.load('./work_dirs/npz/pred_3589.npy')\n",
        "cha_target = np.load('./work_dirs/npz/target_3589.npy')\n",
        "# mh_f2,  mf_f2,  mh_e,  mf_e,  mh_f1, mf_f1\n",
        "list_dF2 = []\n",
        "\n",
        "dh = 0\n",
        "df = 0\n",
        "list_d = []   #[i, j, dh, df]    @i: image number @j: {0: f2; 2: e; 4: f1; 6:fmin}\n",
        "list_dfmin = []\n",
        "cnt = 0\n",
        "for i in range(N):\n",
        "  for j in [0,2,4]:\n",
        "    if ((cha_pred[i][j] != -500) & (cha_target[i][j] != -500)):    \n",
        "      if j == 0:\n",
        "        list_d.append([i, j, (-cha_pred[i][j] + cha_target[i][j]), (cha_pred[i][j+1] - cha_target[i][j+1])])\n",
        "        list_dF2.append([-cha_pred[i][j] + cha_target[i][j], cha_pred[i][j+1] - cha_target[i][j+1]])\n",
        "      else:\n",
        "        list_d.append([i, j, (-cha_pred[i][j] + cha_target[i][j]), (cha_pred[i][j+1] - cha_target[i][j+1])])   # 非F2 的临界频率 -1\n",
        "\n",
        "dev = np.array(list_d)\n",
        "print(np.shape(dev))\n",
        "list_dfmin = []\n",
        "for i in range(N):\n",
        "  j = 6\n",
        "  if ((cha_pred[i][j] != -1) & (cha_target[i][j] != -1)):   \n",
        "    list_dfmin.append(cha_pred[i][j] - cha_target[i][j])\n",
        "\n",
        "print('fmin cases', len(list_dfmin))\n",
        "dfmin = np.array(list_dfmin)\n",
        "dfmin = 0.05*dfmin    # fmin\n",
        "\n",
        "list_dF2 = np.array(list_dF2)\n",
        "dfoF2 = list_dF2[:,1] * 0.05\n",
        "dhF2 = list_dF2[:,0] * 2.5\n",
        "\n",
        "dh = 2.5*dev[:,2]\n",
        "df = 0.05*dev[:,3]\n",
        "df = np.concatenate((df, dfmin), axis=None)\n",
        "\n",
        "print('dh cases', len(dh), 'dfcases', len(df))\n",
        "\n",
        "cnt = 0\n",
        "\n",
        "print(np.unique(dh))\n",
        "print(np.unique(df))\n",
        "for i in range(len(dhF2)):\n",
        "  if(abs(dhF2[i]) > 10):\n",
        "    cnt = cnt + 1\n",
        "print(('dhF2 <= 10km:', 1-cnt/len(dhF2)))\n",
        "for i in range(len(dfoF2)):\n",
        "  if(abs(dfoF2[i]) > 0.2):\n",
        "    cnt = cnt + 1\n",
        "print(('dfoF2 <= 0.2MHz:', 1-cnt/len(dfoF2)))\n",
        "print('mean absolute DH', np.mean(abs(dh)))\n",
        "print('mean absolute DF', np.mean(abs(df)) )\n",
        "print('\\nmean DH', np.mean(dh))\n",
        "print('mean DF', np.mean(df))\n",
        "print('mean DFmin', np.mean(dfmin))\n",
        "# plot hist\n",
        "plt.figure(figsize=(12,5))\n",
        "plt.subplot(121)\n",
        "plt.hist(dh, 20, (-28.75,26.25))\n",
        "plt.title('Distribution of mean deviation of critical virtual height')\n",
        "\n",
        "plt.subplot(122)\n",
        "plt.hist(df, 20, (-0.525, 0.475))\n",
        "plt.title('distribution of mean deviation of critical frequency')\n",
        "plt.show()"
      ]
    }
  ],
  "metadata": {
    "accelerator": "GPU",
    "colab": {
      "collapsed_sections": [
        "lNRq1oiHcy8I",
        "ekQwh1H6mbJ8",
        "wiB0BZJamoS_",
        "G4mya-gRPf-c",
        "qojufhLzvOQy",
        "GJPDTxtBiL1h",
        "hDWX9pOCm9S-",
        "bCSnJpH0M8xu",
        "jPM4_HYNp4xn",
        "Y7RwxMklsT5v",
        "NeOCQ9aXlC9Y",
        "b0lOH8hEkyWC",
        "HSsomSc4YVvw",
        "DVrpBomAlxVI",
        "f6uj3QSJUwZh",
        "Tgb6TvbO_ss1"
      ],
      "name": "post_3589_fmin.ipynb",
      "provenance": []
    },
    "kernelspec": {
      "display_name": "Python 3",
      "name": "python3"
    },
    "language_info": {
      "name": "python"
    }
  },
  "nbformat": 4,
  "nbformat_minor": 0
}